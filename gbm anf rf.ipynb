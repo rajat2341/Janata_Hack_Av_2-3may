{
 "cells": [
  {
   "cell_type": "code",
   "execution_count": 1,
   "metadata": {},
   "outputs": [],
   "source": [
    "import pandas as pd\n",
    "import numpy as np\n",
    "import matplotlib.pyplot as plt\n",
    "%matplotlib inline\n",
    "import seaborn as sns\n",
    "sns.set()\n",
    "import warnings\n",
    "warnings.filterwarnings(\"ignore\")"
   ]
  },
  {
   "cell_type": "code",
   "execution_count": 2,
   "metadata": {},
   "outputs": [],
   "source": [
    "train = pd.read_csv('data/train_Av_Jh.csv')\n",
    "test = pd.read_csv('data/test_Av_Jh.csv')"
   ]
  },
  {
   "cell_type": "code",
   "execution_count": 3,
   "metadata": {},
   "outputs": [
    {
     "data": {
      "text/html": [
       "<div>\n",
       "<style scoped>\n",
       "    .dataframe tbody tr th:only-of-type {\n",
       "        vertical-align: middle;\n",
       "    }\n",
       "\n",
       "    .dataframe tbody tr th {\n",
       "        vertical-align: top;\n",
       "    }\n",
       "\n",
       "    .dataframe thead th {\n",
       "        text-align: right;\n",
       "    }\n",
       "</style>\n",
       "<table border=\"1\" class=\"dataframe\">\n",
       "  <thead>\n",
       "    <tr style=\"text-align: right;\">\n",
       "      <th></th>\n",
       "      <th>ID</th>\n",
       "      <th>datetime</th>\n",
       "      <th>temperature</th>\n",
       "      <th>var1</th>\n",
       "      <th>pressure</th>\n",
       "      <th>windspeed</th>\n",
       "      <th>var2</th>\n",
       "      <th>electricity_consumption</th>\n",
       "    </tr>\n",
       "  </thead>\n",
       "  <tbody>\n",
       "    <tr>\n",
       "      <th>0</th>\n",
       "      <td>0</td>\n",
       "      <td>2013-07-01 00:00:00</td>\n",
       "      <td>-11.4</td>\n",
       "      <td>-17.1</td>\n",
       "      <td>1003.0</td>\n",
       "      <td>571.910</td>\n",
       "      <td>A</td>\n",
       "      <td>216.0</td>\n",
       "    </tr>\n",
       "    <tr>\n",
       "      <th>1</th>\n",
       "      <td>1</td>\n",
       "      <td>2013-07-01 01:00:00</td>\n",
       "      <td>-12.1</td>\n",
       "      <td>-19.3</td>\n",
       "      <td>996.0</td>\n",
       "      <td>575.040</td>\n",
       "      <td>A</td>\n",
       "      <td>210.0</td>\n",
       "    </tr>\n",
       "    <tr>\n",
       "      <th>2</th>\n",
       "      <td>2</td>\n",
       "      <td>2013-07-01 02:00:00</td>\n",
       "      <td>-12.9</td>\n",
       "      <td>-20.0</td>\n",
       "      <td>1000.0</td>\n",
       "      <td>578.435</td>\n",
       "      <td>A</td>\n",
       "      <td>225.0</td>\n",
       "    </tr>\n",
       "    <tr>\n",
       "      <th>3</th>\n",
       "      <td>3</td>\n",
       "      <td>2013-07-01 03:00:00</td>\n",
       "      <td>-11.4</td>\n",
       "      <td>-17.1</td>\n",
       "      <td>995.0</td>\n",
       "      <td>582.580</td>\n",
       "      <td>A</td>\n",
       "      <td>216.0</td>\n",
       "    </tr>\n",
       "    <tr>\n",
       "      <th>4</th>\n",
       "      <td>4</td>\n",
       "      <td>2013-07-01 04:00:00</td>\n",
       "      <td>-11.4</td>\n",
       "      <td>-19.3</td>\n",
       "      <td>1005.0</td>\n",
       "      <td>586.600</td>\n",
       "      <td>A</td>\n",
       "      <td>222.0</td>\n",
       "    </tr>\n",
       "  </tbody>\n",
       "</table>\n",
       "</div>"
      ],
      "text/plain": [
       "   ID             datetime  temperature  var1  pressure  windspeed var2  \\\n",
       "0   0  2013-07-01 00:00:00        -11.4 -17.1    1003.0    571.910    A   \n",
       "1   1  2013-07-01 01:00:00        -12.1 -19.3     996.0    575.040    A   \n",
       "2   2  2013-07-01 02:00:00        -12.9 -20.0    1000.0    578.435    A   \n",
       "3   3  2013-07-01 03:00:00        -11.4 -17.1     995.0    582.580    A   \n",
       "4   4  2013-07-01 04:00:00        -11.4 -19.3    1005.0    586.600    A   \n",
       "\n",
       "   electricity_consumption  \n",
       "0                    216.0  \n",
       "1                    210.0  \n",
       "2                    225.0  \n",
       "3                    216.0  \n",
       "4                    222.0  "
      ]
     },
     "execution_count": 3,
     "metadata": {},
     "output_type": "execute_result"
    }
   ],
   "source": [
    "train.head()"
   ]
  },
  {
   "cell_type": "code",
   "execution_count": 4,
   "metadata": {},
   "outputs": [
    {
     "data": {
      "text/html": [
       "<div>\n",
       "<style scoped>\n",
       "    .dataframe tbody tr th:only-of-type {\n",
       "        vertical-align: middle;\n",
       "    }\n",
       "\n",
       "    .dataframe tbody tr th {\n",
       "        vertical-align: top;\n",
       "    }\n",
       "\n",
       "    .dataframe thead th {\n",
       "        text-align: right;\n",
       "    }\n",
       "</style>\n",
       "<table border=\"1\" class=\"dataframe\">\n",
       "  <thead>\n",
       "    <tr style=\"text-align: right;\">\n",
       "      <th></th>\n",
       "      <th>ID</th>\n",
       "      <th>datetime</th>\n",
       "      <th>temperature</th>\n",
       "      <th>var1</th>\n",
       "      <th>pressure</th>\n",
       "      <th>windspeed</th>\n",
       "      <th>var2</th>\n",
       "    </tr>\n",
       "  </thead>\n",
       "  <tbody>\n",
       "    <tr>\n",
       "      <th>0</th>\n",
       "      <td>552</td>\n",
       "      <td>2013-07-24 00:00:00</td>\n",
       "      <td>-10.0</td>\n",
       "      <td>-16.4</td>\n",
       "      <td>1011.0</td>\n",
       "      <td>263.280</td>\n",
       "      <td>A</td>\n",
       "    </tr>\n",
       "    <tr>\n",
       "      <th>1</th>\n",
       "      <td>553</td>\n",
       "      <td>2013-07-24 01:00:00</td>\n",
       "      <td>-10.0</td>\n",
       "      <td>-20.7</td>\n",
       "      <td>1011.0</td>\n",
       "      <td>267.175</td>\n",
       "      <td>A</td>\n",
       "    </tr>\n",
       "    <tr>\n",
       "      <th>2</th>\n",
       "      <td>554</td>\n",
       "      <td>2013-07-24 02:00:00</td>\n",
       "      <td>-10.7</td>\n",
       "      <td>-17.1</td>\n",
       "      <td>1003.0</td>\n",
       "      <td>269.555</td>\n",
       "      <td>A</td>\n",
       "    </tr>\n",
       "    <tr>\n",
       "      <th>3</th>\n",
       "      <td>555</td>\n",
       "      <td>2013-07-24 03:00:00</td>\n",
       "      <td>-13.6</td>\n",
       "      <td>-20.7</td>\n",
       "      <td>1008.0</td>\n",
       "      <td>273.060</td>\n",
       "      <td>A</td>\n",
       "    </tr>\n",
       "    <tr>\n",
       "      <th>4</th>\n",
       "      <td>556</td>\n",
       "      <td>2013-07-24 04:00:00</td>\n",
       "      <td>-10.7</td>\n",
       "      <td>-17.1</td>\n",
       "      <td>1006.0</td>\n",
       "      <td>1.765</td>\n",
       "      <td>A</td>\n",
       "    </tr>\n",
       "  </tbody>\n",
       "</table>\n",
       "</div>"
      ],
      "text/plain": [
       "    ID             datetime  temperature  var1  pressure  windspeed var2\n",
       "0  552  2013-07-24 00:00:00        -10.0 -16.4    1011.0    263.280    A\n",
       "1  553  2013-07-24 01:00:00        -10.0 -20.7    1011.0    267.175    A\n",
       "2  554  2013-07-24 02:00:00        -10.7 -17.1    1003.0    269.555    A\n",
       "3  555  2013-07-24 03:00:00        -13.6 -20.7    1008.0    273.060    A\n",
       "4  556  2013-07-24 04:00:00        -10.7 -17.1    1006.0      1.765    A"
      ]
     },
     "execution_count": 4,
     "metadata": {},
     "output_type": "execute_result"
    }
   ],
   "source": [
    "test.head()"
   ]
  },
  {
   "cell_type": "code",
   "execution_count": 5,
   "metadata": {},
   "outputs": [
    {
     "name": "stdout",
     "output_type": "stream",
     "text": [
      "<class 'pandas.core.frame.DataFrame'>\n",
      "RangeIndex: 26496 entries, 0 to 26495\n",
      "Data columns (total 8 columns):\n",
      "ID                         26496 non-null int64\n",
      "datetime                   26496 non-null object\n",
      "temperature                26496 non-null float64\n",
      "var1                       26496 non-null float64\n",
      "pressure                   26496 non-null float64\n",
      "windspeed                  26496 non-null float64\n",
      "var2                       26496 non-null object\n",
      "electricity_consumption    26496 non-null float64\n",
      "dtypes: float64(5), int64(1), object(2)\n",
      "memory usage: 1.6+ MB\n"
     ]
    }
   ],
   "source": [
    "train.info()"
   ]
  },
  {
   "cell_type": "code",
   "execution_count": 6,
   "metadata": {},
   "outputs": [
    {
     "name": "stdout",
     "output_type": "stream",
     "text": [
      "<class 'pandas.core.frame.DataFrame'>\n",
      "RangeIndex: 8568 entries, 0 to 8567\n",
      "Data columns (total 7 columns):\n",
      "ID             8568 non-null int64\n",
      "datetime       8568 non-null object\n",
      "temperature    8568 non-null float64\n",
      "var1           8568 non-null float64\n",
      "pressure       8568 non-null float64\n",
      "windspeed      8568 non-null float64\n",
      "var2           8568 non-null object\n",
      "dtypes: float64(4), int64(1), object(2)\n",
      "memory usage: 468.6+ KB\n"
     ]
    }
   ],
   "source": [
    "test.info()"
   ]
  },
  {
   "cell_type": "code",
   "execution_count": 7,
   "metadata": {},
   "outputs": [
    {
     "data": {
      "text/html": [
       "<div>\n",
       "<style scoped>\n",
       "    .dataframe tbody tr th:only-of-type {\n",
       "        vertical-align: middle;\n",
       "    }\n",
       "\n",
       "    .dataframe tbody tr th {\n",
       "        vertical-align: top;\n",
       "    }\n",
       "\n",
       "    .dataframe thead th {\n",
       "        text-align: right;\n",
       "    }\n",
       "</style>\n",
       "<table border=\"1\" class=\"dataframe\">\n",
       "  <thead>\n",
       "    <tr style=\"text-align: right;\">\n",
       "      <th></th>\n",
       "      <th>ID</th>\n",
       "      <th>temperature</th>\n",
       "      <th>var1</th>\n",
       "      <th>pressure</th>\n",
       "      <th>windspeed</th>\n",
       "      <th>electricity_consumption</th>\n",
       "    </tr>\n",
       "  </thead>\n",
       "  <tbody>\n",
       "    <tr>\n",
       "      <th>count</th>\n",
       "      <td>26496.000000</td>\n",
       "      <td>26496.000000</td>\n",
       "      <td>26496.000000</td>\n",
       "      <td>26496.000000</td>\n",
       "      <td>26496.000000</td>\n",
       "      <td>26496.000000</td>\n",
       "    </tr>\n",
       "    <tr>\n",
       "      <th>mean</th>\n",
       "      <td>17455.500000</td>\n",
       "      <td>5.098989</td>\n",
       "      <td>-1.916233</td>\n",
       "      <td>986.450615</td>\n",
       "      <td>23.959956</td>\n",
       "      <td>298.359601</td>\n",
       "    </tr>\n",
       "    <tr>\n",
       "      <th>std</th>\n",
       "      <td>10122.873673</td>\n",
       "      <td>8.682860</td>\n",
       "      <td>10.424860</td>\n",
       "      <td>12.002647</td>\n",
       "      <td>48.280321</td>\n",
       "      <td>108.020555</td>\n",
       "    </tr>\n",
       "    <tr>\n",
       "      <th>min</th>\n",
       "      <td>0.000000</td>\n",
       "      <td>-17.100000</td>\n",
       "      <td>-32.900000</td>\n",
       "      <td>953.000000</td>\n",
       "      <td>1.075000</td>\n",
       "      <td>174.000000</td>\n",
       "    </tr>\n",
       "    <tr>\n",
       "      <th>25%</th>\n",
       "      <td>8717.750000</td>\n",
       "      <td>-2.900000</td>\n",
       "      <td>-10.700000</td>\n",
       "      <td>978.000000</td>\n",
       "      <td>3.155000</td>\n",
       "      <td>219.000000</td>\n",
       "    </tr>\n",
       "    <tr>\n",
       "      <th>50%</th>\n",
       "      <td>17435.500000</td>\n",
       "      <td>6.400000</td>\n",
       "      <td>-1.400000</td>\n",
       "      <td>986.000000</td>\n",
       "      <td>6.545000</td>\n",
       "      <td>267.000000</td>\n",
       "    </tr>\n",
       "    <tr>\n",
       "      <th>75%</th>\n",
       "      <td>26177.250000</td>\n",
       "      <td>12.100000</td>\n",
       "      <td>7.900000</td>\n",
       "      <td>995.000000</td>\n",
       "      <td>22.260000</td>\n",
       "      <td>342.000000</td>\n",
       "    </tr>\n",
       "    <tr>\n",
       "      <th>max</th>\n",
       "      <td>34895.000000</td>\n",
       "      <td>23.600000</td>\n",
       "      <td>18.600000</td>\n",
       "      <td>1024.000000</td>\n",
       "      <td>586.600000</td>\n",
       "      <td>1386.000000</td>\n",
       "    </tr>\n",
       "  </tbody>\n",
       "</table>\n",
       "</div>"
      ],
      "text/plain": [
       "                 ID   temperature          var1      pressure     windspeed  \\\n",
       "count  26496.000000  26496.000000  26496.000000  26496.000000  26496.000000   \n",
       "mean   17455.500000      5.098989     -1.916233    986.450615     23.959956   \n",
       "std    10122.873673      8.682860     10.424860     12.002647     48.280321   \n",
       "min        0.000000    -17.100000    -32.900000    953.000000      1.075000   \n",
       "25%     8717.750000     -2.900000    -10.700000    978.000000      3.155000   \n",
       "50%    17435.500000      6.400000     -1.400000    986.000000      6.545000   \n",
       "75%    26177.250000     12.100000      7.900000    995.000000     22.260000   \n",
       "max    34895.000000     23.600000     18.600000   1024.000000    586.600000   \n",
       "\n",
       "       electricity_consumption  \n",
       "count             26496.000000  \n",
       "mean                298.359601  \n",
       "std                 108.020555  \n",
       "min                 174.000000  \n",
       "25%                 219.000000  \n",
       "50%                 267.000000  \n",
       "75%                 342.000000  \n",
       "max                1386.000000  "
      ]
     },
     "execution_count": 7,
     "metadata": {},
     "output_type": "execute_result"
    }
   ],
   "source": [
    "train.describe()"
   ]
  },
  {
   "cell_type": "code",
   "execution_count": 8,
   "metadata": {},
   "outputs": [
    {
     "data": {
      "text/html": [
       "<div>\n",
       "<style scoped>\n",
       "    .dataframe tbody tr th:only-of-type {\n",
       "        vertical-align: middle;\n",
       "    }\n",
       "\n",
       "    .dataframe tbody tr th {\n",
       "        vertical-align: top;\n",
       "    }\n",
       "\n",
       "    .dataframe thead th {\n",
       "        text-align: right;\n",
       "    }\n",
       "</style>\n",
       "<table border=\"1\" class=\"dataframe\">\n",
       "  <thead>\n",
       "    <tr style=\"text-align: right;\">\n",
       "      <th></th>\n",
       "      <th>ID</th>\n",
       "      <th>temperature</th>\n",
       "      <th>var1</th>\n",
       "      <th>pressure</th>\n",
       "      <th>windspeed</th>\n",
       "    </tr>\n",
       "  </thead>\n",
       "  <tbody>\n",
       "    <tr>\n",
       "      <th>count</th>\n",
       "      <td>8568.000000</td>\n",
       "      <td>8568.000000</td>\n",
       "      <td>8568.000000</td>\n",
       "      <td>8568.000000</td>\n",
       "      <td>8568.000000</td>\n",
       "    </tr>\n",
       "    <tr>\n",
       "      <th>mean</th>\n",
       "      <td>17766.525210</td>\n",
       "      <td>5.112757</td>\n",
       "      <td>-1.726401</td>\n",
       "      <td>986.329599</td>\n",
       "      <td>24.176398</td>\n",
       "    </tr>\n",
       "    <tr>\n",
       "      <th>std</th>\n",
       "      <td>10117.296415</td>\n",
       "      <td>8.606167</td>\n",
       "      <td>10.345034</td>\n",
       "      <td>12.148517</td>\n",
       "      <td>49.651535</td>\n",
       "    </tr>\n",
       "    <tr>\n",
       "      <th>min</th>\n",
       "      <td>552.000000</td>\n",
       "      <td>-17.900000</td>\n",
       "      <td>-26.400000</td>\n",
       "      <td>954.000000</td>\n",
       "      <td>1.075000</td>\n",
       "    </tr>\n",
       "    <tr>\n",
       "      <th>25%</th>\n",
       "      <td>9317.750000</td>\n",
       "      <td>-2.100000</td>\n",
       "      <td>-10.000000</td>\n",
       "      <td>977.000000</td>\n",
       "      <td>3.155000</td>\n",
       "    </tr>\n",
       "    <tr>\n",
       "      <th>50%</th>\n",
       "      <td>18083.500000</td>\n",
       "      <td>5.700000</td>\n",
       "      <td>-2.100000</td>\n",
       "      <td>987.000000</td>\n",
       "      <td>6.295000</td>\n",
       "    </tr>\n",
       "    <tr>\n",
       "      <th>75%</th>\n",
       "      <td>26297.250000</td>\n",
       "      <td>12.100000</td>\n",
       "      <td>7.900000</td>\n",
       "      <td>995.000000</td>\n",
       "      <td>21.907500</td>\n",
       "    </tr>\n",
       "    <tr>\n",
       "      <th>max</th>\n",
       "      <td>35063.000000</td>\n",
       "      <td>25.700000</td>\n",
       "      <td>17.900000</td>\n",
       "      <td>1023.000000</td>\n",
       "      <td>491.255000</td>\n",
       "    </tr>\n",
       "  </tbody>\n",
       "</table>\n",
       "</div>"
      ],
      "text/plain": [
       "                 ID  temperature         var1     pressure    windspeed\n",
       "count   8568.000000  8568.000000  8568.000000  8568.000000  8568.000000\n",
       "mean   17766.525210     5.112757    -1.726401   986.329599    24.176398\n",
       "std    10117.296415     8.606167    10.345034    12.148517    49.651535\n",
       "min      552.000000   -17.900000   -26.400000   954.000000     1.075000\n",
       "25%     9317.750000    -2.100000   -10.000000   977.000000     3.155000\n",
       "50%    18083.500000     5.700000    -2.100000   987.000000     6.295000\n",
       "75%    26297.250000    12.100000     7.900000   995.000000    21.907500\n",
       "max    35063.000000    25.700000    17.900000  1023.000000   491.255000"
      ]
     },
     "execution_count": 8,
     "metadata": {},
     "output_type": "execute_result"
    }
   ],
   "source": [
    "test.describe()"
   ]
  },
  {
   "cell_type": "code",
   "execution_count": 9,
   "metadata": {},
   "outputs": [
    {
     "data": {
      "text/plain": [
       "A    25239\n",
       "C     1040\n",
       "B      217\n",
       "Name: var2, dtype: int64"
      ]
     },
     "execution_count": 9,
     "metadata": {},
     "output_type": "execute_result"
    }
   ],
   "source": [
    "train['var2'].value_counts()"
   ]
  },
  {
   "cell_type": "code",
   "execution_count": 10,
   "metadata": {},
   "outputs": [
    {
     "data": {
      "text/plain": [
       "ID                           int64\n",
       "datetime                    object\n",
       "temperature                float64\n",
       "var1                       float64\n",
       "pressure                   float64\n",
       "windspeed                  float64\n",
       "var2                        object\n",
       "electricity_consumption    float64\n",
       "dtype: object"
      ]
     },
     "execution_count": 10,
     "metadata": {},
     "output_type": "execute_result"
    }
   ],
   "source": [
    "train.dtypes"
   ]
  },
  {
   "cell_type": "code",
   "execution_count": 11,
   "metadata": {},
   "outputs": [
    {
     "data": {
      "text/plain": [
       "ID               int64\n",
       "datetime        object\n",
       "temperature    float64\n",
       "var1           float64\n",
       "pressure       float64\n",
       "windspeed      float64\n",
       "var2            object\n",
       "dtype: object"
      ]
     },
     "execution_count": 11,
     "metadata": {},
     "output_type": "execute_result"
    }
   ],
   "source": [
    "test.dtypes"
   ]
  },
  {
   "cell_type": "code",
   "execution_count": 12,
   "metadata": {},
   "outputs": [
    {
     "data": {
      "text/plain": [
       "((26496, 8), (8568, 7))"
      ]
     },
     "execution_count": 12,
     "metadata": {},
     "output_type": "execute_result"
    }
   ],
   "source": [
    "train.shape, test.shape"
   ]
  },
  {
   "cell_type": "code",
   "execution_count": 13,
   "metadata": {},
   "outputs": [
    {
     "data": {
      "text/plain": [
       "<matplotlib.axes._subplots.AxesSubplot at 0x7fdfa4312080>"
      ]
     },
     "execution_count": 13,
     "metadata": {},
     "output_type": "execute_result"
    },
    {
     "data": {
      "image/png": "[encoded data removed]",
      "text/plain": [
       "<Figure size 432x288 with 1 Axes>"
      ]
     },
     "metadata": {},
     "output_type": "display_data"
    }
   ],
   "source": [
    "sns.distplot(train['temperature'])"
   ]
  },
  {
   "cell_type": "code",
   "execution_count": 14,
   "metadata": {},
   "outputs": [
    {
     "data": {
      "text/plain": [
       "<matplotlib.axes._subplots.AxesSubplot at 0x7fdf7111d630>"
      ]
     },
     "execution_count": 14,
     "metadata": {},
     "output_type": "execute_result"
    },
    {
     "data": {
      "image/png": "[encoded data removed]",
      "text/plain": [
       "<Figure size 432x288 with 1 Axes>"
      ]
     },
     "metadata": {},
     "output_type": "display_data"
    }
   ],
   "source": [
    "sns.distplot(train['var1'])"
   ]
  },
  {
   "cell_type": "code",
   "execution_count": 15,
   "metadata": {},
   "outputs": [
    {
     "data": {
      "text/plain": [
       "<matplotlib.axes._subplots.AxesSubplot at 0x7fdf716599e8>"
      ]
     },
     "execution_count": 15,
     "metadata": {},
     "output_type": "execute_result"
    },
    {
     "data": {
      "image/png": "[encoded data removed]",
      "text/plain": [
       "<Figure size 432x288 with 1 Axes>"
      ]
     },
     "metadata": {},
     "output_type": "display_data"
    }
   ],
   "source": [
    "sns.distplot(train['pressure'])"
   ]
  },
  {
   "cell_type": "code",
   "execution_count": 16,
   "metadata": {},
   "outputs": [
    {
     "data": {
      "text/plain": [
       "<matplotlib.axes._subplots.AxesSubplot at 0x7fdf7111d2e8>"
      ]
     },
     "execution_count": 16,
     "metadata": {},
     "output_type": "execute_result"
    },
    {
     "data": {
      "image/png": "[encoded data removed]",
      "text/plain": [
       "<Figure size 432x288 with 1 Axes>"
      ]
     },
     "metadata": {},
     "output_type": "display_data"
    }
   ],
   "source": [
    "sns.distplot(train['windspeed'])"
   ]
  },
  {
   "cell_type": "code",
   "execution_count": 17,
   "metadata": {},
   "outputs": [
    {
     "data": {
      "text/plain": [
       "<matplotlib.axes._subplots.AxesSubplot at 0x7fdf70dd9cf8>"
      ]
     },
     "execution_count": 17,
     "metadata": {},
     "output_type": "execute_result"
    },
    {
     "data": {
      "image/png": "[encoded data removed]",
      "text/plain": [
       "<Figure size 432x288 with 1 Axes>"
      ]
     },
     "metadata": {},
     "output_type": "display_data"
    }
   ],
   "source": [
    "train['var2'].value_counts(normalize=True).plot.bar(title= 'var2')"
   ]
  },
  {
   "cell_type": "code",
   "execution_count": 18,
   "metadata": {},
   "outputs": [
    {
     "data": {
      "image/png": "[encoded data removed]",
      "text/plain": [
       "<Figure size 648x432 with 2 Axes>"
      ]
     },
     "metadata": {},
     "output_type": "display_data"
    }
   ],
   "source": [
    "matrix = train.corr()\n",
    "f, ax = plt.subplots(figsize=(9, 6))\n",
    "sns.heatmap(matrix, vmax=.8, annot = True, square=True, cmap=\"BuPu\");"
   ]
  },
  {
   "cell_type": "code",
   "execution_count": 19,
   "metadata": {},
   "outputs": [],
   "source": [
    "from sklearn.preprocessing import LabelEncoder"
   ]
  },
  {
   "cell_type": "code",
   "execution_count": 20,
   "metadata": {},
   "outputs": [],
   "source": [
    "year = pd.to_datetime(train['datetime']).map(lambda x: x.strftime('%Y'))\n",
    "year = year.values\n",
    "\n",
    "month = pd.to_datetime(train['datetime']).map(lambda x: x.strftime('%m'))\n",
    "month = month.values\n",
    "\n",
    "date = pd.to_datetime(train['datetime']).map(lambda x: x.strftime('%d'))\n",
    "date = date.values\n",
    "\n",
    "hour = pd.to_datetime(train['datetime']).map(lambda x: x.strftime('%H')) \n",
    "hour = hour.values"
   ]
  },
  {
   "cell_type": "code",
   "execution_count": 21,
   "metadata": {},
   "outputs": [],
   "source": [
    "t_year = pd.to_datetime(test['datetime']).map(lambda x: x.strftime('%Y'))\n",
    "t_year = t_year.values\n",
    "\n",
    "t_month = pd.to_datetime(test['datetime']).map(lambda x: x.strftime('%m'))\n",
    "t_month = t_month.values\n",
    "\n",
    "t_date = pd.to_datetime(test['datetime']).map(lambda x: x.strftime('%d'))\n",
    "t_date = t_date.values\n",
    "\n",
    "t_hour = pd.to_datetime(test['datetime']).map(lambda x: x.strftime('%H')) \n",
    "t_hour = t_hour.values"
   ]
  },
  {
   "cell_type": "code",
   "execution_count": 22,
   "metadata": {},
   "outputs": [],
   "source": [
    "train['year'] = year\n",
    "train['month'] = month\n",
    "train['date'] = date\n",
    "train['hour'] = hour"
   ]
  },
  {
   "cell_type": "code",
   "execution_count": 23,
   "metadata": {},
   "outputs": [],
   "source": [
    "test['year'] = t_year\n",
    "test['month'] = t_month\n",
    "test['date'] = t_date\n",
    "test['hour'] = t_hour"
   ]
  },
  {
   "cell_type": "code",
   "execution_count": 24,
   "metadata": {},
   "outputs": [
    {
     "data": {
      "text/html": [
       "<div>\n",
       "<style scoped>\n",
       "    .dataframe tbody tr th:only-of-type {\n",
       "        vertical-align: middle;\n",
       "    }\n",
       "\n",
       "    .dataframe tbody tr th {\n",
       "        vertical-align: top;\n",
       "    }\n",
       "\n",
       "    .dataframe thead th {\n",
       "        text-align: right;\n",
       "    }\n",
       "</style>\n",
       "<table border=\"1\" class=\"dataframe\">\n",
       "  <thead>\n",
       "    <tr style=\"text-align: right;\">\n",
       "      <th></th>\n",
       "      <th>ID</th>\n",
       "      <th>datetime</th>\n",
       "      <th>temperature</th>\n",
       "      <th>var1</th>\n",
       "      <th>pressure</th>\n",
       "      <th>windspeed</th>\n",
       "      <th>var2</th>\n",
       "      <th>electricity_consumption</th>\n",
       "      <th>year</th>\n",
       "      <th>month</th>\n",
       "      <th>date</th>\n",
       "      <th>hour</th>\n",
       "    </tr>\n",
       "  </thead>\n",
       "  <tbody>\n",
       "    <tr>\n",
       "      <th>0</th>\n",
       "      <td>0</td>\n",
       "      <td>2013-07-01 00:00:00</td>\n",
       "      <td>-11.4</td>\n",
       "      <td>-17.1</td>\n",
       "      <td>1003.0</td>\n",
       "      <td>571.910</td>\n",
       "      <td>A</td>\n",
       "      <td>216.0</td>\n",
       "      <td>2013</td>\n",
       "      <td>07</td>\n",
       "      <td>01</td>\n",
       "      <td>00</td>\n",
       "    </tr>\n",
       "    <tr>\n",
       "      <th>1</th>\n",
       "      <td>1</td>\n",
       "      <td>2013-07-01 01:00:00</td>\n",
       "      <td>-12.1</td>\n",
       "      <td>-19.3</td>\n",
       "      <td>996.0</td>\n",
       "      <td>575.040</td>\n",
       "      <td>A</td>\n",
       "      <td>210.0</td>\n",
       "      <td>2013</td>\n",
       "      <td>07</td>\n",
       "      <td>01</td>\n",
       "      <td>01</td>\n",
       "    </tr>\n",
       "    <tr>\n",
       "      <th>2</th>\n",
       "      <td>2</td>\n",
       "      <td>2013-07-01 02:00:00</td>\n",
       "      <td>-12.9</td>\n",
       "      <td>-20.0</td>\n",
       "      <td>1000.0</td>\n",
       "      <td>578.435</td>\n",
       "      <td>A</td>\n",
       "      <td>225.0</td>\n",
       "      <td>2013</td>\n",
       "      <td>07</td>\n",
       "      <td>01</td>\n",
       "      <td>02</td>\n",
       "    </tr>\n",
       "    <tr>\n",
       "      <th>3</th>\n",
       "      <td>3</td>\n",
       "      <td>2013-07-01 03:00:00</td>\n",
       "      <td>-11.4</td>\n",
       "      <td>-17.1</td>\n",
       "      <td>995.0</td>\n",
       "      <td>582.580</td>\n",
       "      <td>A</td>\n",
       "      <td>216.0</td>\n",
       "      <td>2013</td>\n",
       "      <td>07</td>\n",
       "      <td>01</td>\n",
       "      <td>03</td>\n",
       "    </tr>\n",
       "    <tr>\n",
       "      <th>4</th>\n",
       "      <td>4</td>\n",
       "      <td>2013-07-01 04:00:00</td>\n",
       "      <td>-11.4</td>\n",
       "      <td>-19.3</td>\n",
       "      <td>1005.0</td>\n",
       "      <td>586.600</td>\n",
       "      <td>A</td>\n",
       "      <td>222.0</td>\n",
       "      <td>2013</td>\n",
       "      <td>07</td>\n",
       "      <td>01</td>\n",
       "      <td>04</td>\n",
       "    </tr>\n",
       "  </tbody>\n",
       "</table>\n",
       "</div>"
      ],
      "text/plain": [
       "   ID             datetime  temperature  var1  pressure  windspeed var2  \\\n",
       "0   0  2013-07-01 00:00:00        -11.4 -17.1    1003.0    571.910    A   \n",
       "1   1  2013-07-01 01:00:00        -12.1 -19.3     996.0    575.040    A   \n",
       "2   2  2013-07-01 02:00:00        -12.9 -20.0    1000.0    578.435    A   \n",
       "3   3  2013-07-01 03:00:00        -11.4 -17.1     995.0    582.580    A   \n",
       "4   4  2013-07-01 04:00:00        -11.4 -19.3    1005.0    586.600    A   \n",
       "\n",
       "   electricity_consumption  year month date hour  \n",
       "0                    216.0  2013    07   01   00  \n",
       "1                    210.0  2013    07   01   01  \n",
       "2                    225.0  2013    07   01   02  \n",
       "3                    216.0  2013    07   01   03  \n",
       "4                    222.0  2013    07   01   04  "
      ]
     },
     "execution_count": 24,
     "metadata": {},
     "output_type": "execute_result"
    }
   ],
   "source": [
    "train.head()"
   ]
  },
  {
   "cell_type": "code",
   "execution_count": 25,
   "metadata": {},
   "outputs": [
    {
     "data": {
      "text/html": [
       "<div>\n",
       "<style scoped>\n",
       "    .dataframe tbody tr th:only-of-type {\n",
       "        vertical-align: middle;\n",
       "    }\n",
       "\n",
       "    .dataframe tbody tr th {\n",
       "        vertical-align: top;\n",
       "    }\n",
       "\n",
       "    .dataframe thead th {\n",
       "        text-align: right;\n",
       "    }\n",
       "</style>\n",
       "<table border=\"1\" class=\"dataframe\">\n",
       "  <thead>\n",
       "    <tr style=\"text-align: right;\">\n",
       "      <th></th>\n",
       "      <th>ID</th>\n",
       "      <th>datetime</th>\n",
       "      <th>temperature</th>\n",
       "      <th>var1</th>\n",
       "      <th>pressure</th>\n",
       "      <th>windspeed</th>\n",
       "      <th>var2</th>\n",
       "      <th>year</th>\n",
       "      <th>month</th>\n",
       "      <th>date</th>\n",
       "      <th>hour</th>\n",
       "    </tr>\n",
       "  </thead>\n",
       "  <tbody>\n",
       "    <tr>\n",
       "      <th>0</th>\n",
       "      <td>552</td>\n",
       "      <td>2013-07-24 00:00:00</td>\n",
       "      <td>-10.0</td>\n",
       "      <td>-16.4</td>\n",
       "      <td>1011.0</td>\n",
       "      <td>263.280</td>\n",
       "      <td>A</td>\n",
       "      <td>2013</td>\n",
       "      <td>07</td>\n",
       "      <td>24</td>\n",
       "      <td>00</td>\n",
       "    </tr>\n",
       "    <tr>\n",
       "      <th>1</th>\n",
       "      <td>553</td>\n",
       "      <td>2013-07-24 01:00:00</td>\n",
       "      <td>-10.0</td>\n",
       "      <td>-20.7</td>\n",
       "      <td>1011.0</td>\n",
       "      <td>267.175</td>\n",
       "      <td>A</td>\n",
       "      <td>2013</td>\n",
       "      <td>07</td>\n",
       "      <td>24</td>\n",
       "      <td>01</td>\n",
       "    </tr>\n",
       "    <tr>\n",
       "      <th>2</th>\n",
       "      <td>554</td>\n",
       "      <td>2013-07-24 02:00:00</td>\n",
       "      <td>-10.7</td>\n",
       "      <td>-17.1</td>\n",
       "      <td>1003.0</td>\n",
       "      <td>269.555</td>\n",
       "      <td>A</td>\n",
       "      <td>2013</td>\n",
       "      <td>07</td>\n",
       "      <td>24</td>\n",
       "      <td>02</td>\n",
       "    </tr>\n",
       "    <tr>\n",
       "      <th>3</th>\n",
       "      <td>555</td>\n",
       "      <td>2013-07-24 03:00:00</td>\n",
       "      <td>-13.6</td>\n",
       "      <td>-20.7</td>\n",
       "      <td>1008.0</td>\n",
       "      <td>273.060</td>\n",
       "      <td>A</td>\n",
       "      <td>2013</td>\n",
       "      <td>07</td>\n",
       "      <td>24</td>\n",
       "      <td>03</td>\n",
       "    </tr>\n",
       "    <tr>\n",
       "      <th>4</th>\n",
       "      <td>556</td>\n",
       "      <td>2013-07-24 04:00:00</td>\n",
       "      <td>-10.7</td>\n",
       "      <td>-17.1</td>\n",
       "      <td>1006.0</td>\n",
       "      <td>1.765</td>\n",
       "      <td>A</td>\n",
       "      <td>2013</td>\n",
       "      <td>07</td>\n",
       "      <td>24</td>\n",
       "      <td>04</td>\n",
       "    </tr>\n",
       "  </tbody>\n",
       "</table>\n",
       "</div>"
      ],
      "text/plain": [
       "    ID             datetime  temperature  var1  pressure  windspeed var2  \\\n",
       "0  552  2013-07-24 00:00:00        -10.0 -16.4    1011.0    263.280    A   \n",
       "1  553  2013-07-24 01:00:00        -10.0 -20.7    1011.0    267.175    A   \n",
       "2  554  2013-07-24 02:00:00        -10.7 -17.1    1003.0    269.555    A   \n",
       "3  555  2013-07-24 03:00:00        -13.6 -20.7    1008.0    273.060    A   \n",
       "4  556  2013-07-24 04:00:00        -10.7 -17.1    1006.0      1.765    A   \n",
       "\n",
       "   year month date hour  \n",
       "0  2013    07   24   00  \n",
       "1  2013    07   24   01  \n",
       "2  2013    07   24   02  \n",
       "3  2013    07   24   03  \n",
       "4  2013    07   24   04  "
      ]
     },
     "execution_count": 25,
     "metadata": {},
     "output_type": "execute_result"
    }
   ],
   "source": [
    "test.head()"
   ]
  },
  {
   "cell_type": "code",
   "execution_count": 26,
   "metadata": {},
   "outputs": [],
   "source": [
    "le = LabelEncoder()\n",
    "train['var2']= le.fit_transform(train['var2'])\n",
    "test['var2']= le.fit_transform(test['var2'])"
   ]
  },
  {
   "cell_type": "code",
   "execution_count": 27,
   "metadata": {},
   "outputs": [],
   "source": [
    "train = train.drop(['ID', 'datetime'], axis = 1)\n",
    "ID = test.ID\n",
    "test = test.drop(['ID', 'datetime'], axis = 1)"
   ]
  },
  {
   "cell_type": "code",
   "execution_count": 28,
   "metadata": {},
   "outputs": [],
   "source": [
    "X = train.drop(['electricity_consumption'],axis = 1)\n",
    "y = train['electricity_consumption']"
   ]
  },
  {
   "cell_type": "code",
   "execution_count": 29,
   "metadata": {},
   "outputs": [],
   "source": [
    "from sklearn.linear_model import LinearRegression\n",
    "from sklearn.model_selection import StratifiedKFold\n",
    "from sklearn.metrics import accuracy_score\n",
    "from sklearn.model_selection import train_test_split"
   ]
  },
  {
   "cell_type": "code",
   "execution_count": 30,
   "metadata": {},
   "outputs": [],
   "source": [
    "X_train,X_valid,y_train,y_valid = train_test_split(X,y,random_state = 8)"
   ]
  },
  {
   "cell_type": "code",
   "execution_count": 31,
   "metadata": {},
   "outputs": [
    {
     "data": {
      "text/plain": [
       "0.4665574594032156"
      ]
     },
     "execution_count": 31,
     "metadata": {},
     "output_type": "execute_result"
    }
   ],
   "source": [
    "from sklearn.ensemble import GradientBoostingRegressor\n",
    "gbm = GradientBoostingRegressor(learning_rate = 0.1, random_state = 1234)\n",
    "gbm.fit(X,y)\n",
    "predictr = gbm.predict(X_valid)\n",
    "gbm.score(X_valid,y_valid)"
   ]
  },
  {
   "cell_type": "code",
   "execution_count": 32,
   "metadata": {},
   "outputs": [
    {
     "name": "stdout",
     "output_type": "stream",
     "text": [
      "78.06482212382782\n"
     ]
    }
   ],
   "source": [
    "from sklearn import metrics\n",
    "print(np.sqrt(metrics.mean_squared_error(y_valid, predictr)))"
   ]
  },
  {
   "cell_type": "code",
   "execution_count": 33,
   "metadata": {},
   "outputs": [
    {
     "data": {
      "text/plain": [
       "0.963993856281003"
      ]
     },
     "execution_count": 33,
     "metadata": {},
     "output_type": "execute_result"
    }
   ],
   "source": [
    "from sklearn.ensemble import RandomForestRegressor\n",
    "rf = RandomForestRegressor()\n",
    "rf.fit(X,y)\n",
    "predictr_rf = rf.predict(X_valid)\n",
    "rf.score(X_valid,y_valid)"
   ]
  },
  {
   "cell_type": "code",
   "execution_count": 34,
   "metadata": {},
   "outputs": [
    {
     "name": "stdout",
     "output_type": "stream",
     "text": [
      "20.2814899446515\n"
     ]
    }
   ],
   "source": [
    "from sklearn import metrics\n",
    "print(np.sqrt(metrics.mean_squared_error(y_valid, predictr_rf)))"
   ]
  },
  {
   "cell_type": "code",
   "execution_count": 35,
   "metadata": {},
   "outputs": [],
   "source": [
    "predictr_gbm_t = gbm.predict(test)"
   ]
  },
  {
   "cell_type": "code",
   "execution_count": 36,
   "metadata": {},
   "outputs": [],
   "source": [
    "predictr_rf_t = rf.predict(test)"
   ]
  },
  {
   "cell_type": "code",
   "execution_count": 37,
   "metadata": {},
   "outputs": [
    {
     "data": {
      "text/plain": [
       "array([222.2571276 , 222.30601046, 223.52744911, ..., 207.8194913 ,\n",
       "       206.40080161, 206.38989288])"
      ]
     },
     "execution_count": 37,
     "metadata": {},
     "output_type": "execute_result"
    }
   ],
   "source": [
    "pred = (predictr_gbm_t + predictr_rf_t)/2\n",
    "pred"
   ]
  },
  {
   "cell_type": "code",
   "execution_count": 38,
   "metadata": {},
   "outputs": [],
   "source": [
    "df= pd.DataFrame(list(zip(ID, pred)), columns = ['ID', 'electricity_consumption'])"
   ]
  },
  {
   "cell_type": "code",
   "execution_count": 39,
   "metadata": {},
   "outputs": [
    {
     "data": {
      "text/html": [
       "<div>\n",
       "<style scoped>\n",
       "    .dataframe tbody tr th:only-of-type {\n",
       "        vertical-align: middle;\n",
       "    }\n",
       "\n",
       "    .dataframe tbody tr th {\n",
       "        vertical-align: top;\n",
       "    }\n",
       "\n",
       "    .dataframe thead th {\n",
       "        text-align: right;\n",
       "    }\n",
       "</style>\n",
       "<table border=\"1\" class=\"dataframe\">\n",
       "  <thead>\n",
       "    <tr style=\"text-align: right;\">\n",
       "      <th></th>\n",
       "      <th>ID</th>\n",
       "      <th>electricity_consumption</th>\n",
       "    </tr>\n",
       "  </thead>\n",
       "  <tbody>\n",
       "    <tr>\n",
       "      <th>0</th>\n",
       "      <td>552</td>\n",
       "      <td>222.257128</td>\n",
       "    </tr>\n",
       "    <tr>\n",
       "      <th>1</th>\n",
       "      <td>553</td>\n",
       "      <td>222.306010</td>\n",
       "    </tr>\n",
       "    <tr>\n",
       "      <th>2</th>\n",
       "      <td>554</td>\n",
       "      <td>223.527449</td>\n",
       "    </tr>\n",
       "    <tr>\n",
       "      <th>3</th>\n",
       "      <td>555</td>\n",
       "      <td>238.329003</td>\n",
       "    </tr>\n",
       "    <tr>\n",
       "      <th>4</th>\n",
       "      <td>556</td>\n",
       "      <td>358.121282</td>\n",
       "    </tr>\n",
       "  </tbody>\n",
       "</table>\n",
       "</div>"
      ],
      "text/plain": [
       "    ID  electricity_consumption\n",
       "0  552               222.257128\n",
       "1  553               222.306010\n",
       "2  554               223.527449\n",
       "3  555               238.329003\n",
       "4  556               358.121282"
      ]
     },
     "execution_count": 39,
     "metadata": {},
     "output_type": "execute_result"
    }
   ],
   "source": [
    "df.head()"
   ]
  },
  {
   "cell_type": "code",
   "execution_count": 40,
   "metadata": {},
   "outputs": [
    {
     "data": {
      "text/plain": [
       "(8568, 2)"
      ]
     },
     "execution_count": 40,
     "metadata": {},
     "output_type": "execute_result"
    }
   ],
   "source": [
    "df.shape"
   ]
  },
  {
   "cell_type": "code",
   "execution_count": 41,
   "metadata": {},
   "outputs": [],
   "source": [
    "df.to_csv('submission.csv', index = False)"
   ]
  },
  {
   "cell_type": "code",
   "execution_count": null,
   "metadata": {},
   "outputs": [],
   "source": []
  }
 ],
 "metadata": {
  "kernelspec": {
   "display_name": "conda_python3",
   "language": "python",
   "name": "conda_python3"
  },
  "language_info": {
   "codemirror_mode": {
    "name": "ipython",
    "version": 3
   },
   "file_extension": ".py",
   "mimetype": "text/x-python",
   "name": "python",
   "nbconvert_exporter": "python",
   "pygments_lexer": "ipython3",
   "version": "3.6.5"
  }
 },
 "nbformat": 4,
 "nbformat_minor": 4
}
